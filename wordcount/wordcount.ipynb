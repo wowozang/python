{
    "cells": [
        {
            "cell_type": "code",
            "execution_count": 1,
            "metadata": {},
            "outputs": [
                {
                    "data": {
                        "text/plain": [
                            "'/home/ks/repos/python/wordcount'"
                        ]
                    },
                    "execution_count": 1,
                    "metadata": {},
                    "output_type": "execute_result"
                }
            ],
            "source": [
                "import os\n",
                "\n",
                "os.getcwd()"
            ]
        },
        {
            "cell_type": "code",
            "execution_count": 2,
            "metadata": {},
            "outputs": [],
            "source": [
                "with open('/home/ks/Documents/Programming/Python/Practice/wordcount/samples/dt.txt',encoding=\"utf8\") as myfile:\n",
                "    # getting the sample text file\n",
                "    \n",
                "    lines = myfile.read()\n",
                "    "
            ]
        },
        {
            "cell_type": "code",
            "execution_count": 3,
            "metadata": {},
            "outputs": [],
            "source": [
                "lines = lines.lower()\n",
                "lines = lines.replace(\"--\",\" \")\n",
                "lines = lines.replace(\".\",\" \")\n",
                "lines = lines.replace(\",\",\" \")\n",
                "lines = lines.replace(\";\",\" \")\n",
                "lines = lines.replace(\":\",\" \")\n",
                "lines = lines.replace(\"-\",\" \")\n",
                "lines = lines.replace(\"“\",\" \")\n",
                "lines = lines.replace(\"”\",\"\")\n",
                "lines = lines.replace(\"’re\",\"\")\n",
                "lines = lines.replace(\"’s\",\"\")\n",
                "lines = lines.replace(\"n’t\",\"\")\n",
                "lines = lines.replace(\"\\n\", '')\n",
                "\n",
                "\n"
            ]
        },
        {
            "cell_type": "code",
            "execution_count": 4,
            "metadata": {},
            "outputs": [
                {
                    "name": "stdout",
                    "output_type": "stream",
                    "text": [
                        "chief justice roberts  president carter  president clinton  president bush  president obama  fellow americans  and people of the world  thank you  we the citizens of america are now joined in a great national effort to rebuild our country and restore its promise for all of our people  together we will determine the course of america  and the world  for many  many years to come  we will face challenges  we will confront hardships  but we will get the job done every four years  we gather on these steps to carry out the orderly and peaceful transfer of power  and we are grateful to president obama and first lady michelle obama for their gracious aid throughout this transition  they have been magnificent  thank you today ceremony  however  has very special meaning  because today we are not merely transferring power from one administration to another  or from one party to another  but we are transferring power from washington  d c   and giving it back to you  the people for too long  a small group in our nation capital has reaped the rewards of government  while the people have borne the cost  washington flourished  but the people did not share in its wealth  politicians prospered  but the jobs left and the factories closed  the establishment protected itself  but not the citizens of our country  their victories have not been your victories  their triumphs have not been your triumphs  and while they celebrated in our nation capital  there was little to celebrate for struggling families all across our land  that all changes  starting right here and right now  because this moment is your moment    it belongs to you  it belongs to everyone gathered here today  and everyone watching  all across america  this is your day  this is your celebration  and this  the united states of america  is your country what truly matters is not which party controls our government  but whether our government is controlled by the people  january 20th  2017 will be remembered as the day the people became the rulers of this nation again  the forgotten men and women of our country  will be forgotten no longer  everyone is listening to you now  you came by the tens of millions to become part of a historic movement  the likes of which the world has never seen before  at the center of this movement is a crucial conviction  that a nation exists to serve its citizens  americans want great schools for their children  safe neighborhoods for their families  and good jobs for themselves  these are just and reasonable demands of righteous people and a righteous public  but for too many of our citizens a different reality exists  mothers and children trapped in poverty in our inner cities  rusted out factories  scattered like tombstones across the across the landscape of our nation  an education system flush with cash  but which leaves our young and beautiful students deprived of all knowledge  and the crime  and the gangs  and the drugs that have stolen too many lives and robbed our country of so much unrealized potential  this american carnage stops right here and stops right now we are one nation and their pain is our pain  their dreams are our dreams and their success will be our success  we share one heart  one home  and one glorious destiny  the oath of office  i take today  is an oath of allegiance to all americans  for many decades  we’ve enriched foreign industry at the expense of american industry  subsidized the armies of other countries  while allowing for the very sad depletion of our military  we’ve defended other nation borders while refusing to defend our own  and spent trillions and trillions of dollars overseas  while america infrastructure has fallen into disrepair and decay  we’ve made other countries rich while the wealth  strength and confidence of our country has dissipated over the horizon  one by one  the factories shuddered and left our shores  with not even a thought about the millions and millions of american workers that were left behind  the wealth of our middle class has been ripped from their homes and then redistributed all across the world but that is the past  and now we are looking only to the future  we assembled here today our issuing a new decree to be heard in every city  in every foreign capital  and in every hall of power  from this day forward  a new vision will govern our land  from this day forward  it going to be only america first  america first every decision on trade  on taxes  on immigration  on foreign affairs will be made to benefit american workers and american families  we must protect our borders from the ravages of other countries making our products  stealing our companies and destroying our jobs  protection will lead to great prosperity and strength  i will fight for you with every breath in my body  and i will never  ever let you down  america will start winning again  winning like never before  we will bring back our jobs  we will bring back our borders  we will bring back our wealth  and we will bring back our dreams  we will build new roads and highways and bridges and airports and tunnels  and railways  all across our wonderful nation  we will get our people off of welfare and back to work  rebuilding our country with american hands and american labor we will follow two simple rules  buy american  and hire american  we will seek friendship and goodwill with the nations of the world  but we do so with the understanding that it is the right of all nations to put their own interests first  we do not seek to impose our way of life on anyone  but rather to let it shine as an example  we will shine for everyone to follow  we will reinforce old alliances and form new ones  and you unite the civilized world against radical islamic terrorism  which we will eradicate completely from the face of the earth at the bedrock of our politics will be a total allegiance to the united states of america  and through our loyalty to our country  we will rediscover our loyalty to each other  when you open your heart to patriotism  there is no room for prejudice  the bible tells us  how good and pleasant it is when god people live together in unity  we must speak our minds openly  debate our disagreements  but always pursue solidarity  when america is united  america is totally unstoppable  there should be no fear  we are protected  and we will always be protected  we will be protected by the great men and women of our military and law enforcement  and most importantly  we will be protected by god finally  we must think big and dream even bigger  in america  we understand that a nation is only living as long as it is striving  we will no longer accept politicians who are all talk and no action  constantly complaining but never doing anything about it  the time for empty talk is over  now arrives the hour of action  do not allow anyone to tell you that it cannot be done  no challenge can match the heart and fight and spirit of america  we will not fail  our country will thrive and prosper again we stand at the birth of a new millennium  ready to unlock the mysteries of space  to free the earth from the miseries of disease and to harness the industries and technologies of tomorrow  a new national pride will stir our souls  lift our sights and heal our divisions  it time to remember that old wisdom our soldiers will never forget  that whether we are black  or brown  or white  we all bleed the same red blood of patriots  we all enjoy the same glorious freedoms  and we all salute the same  great american flag  and whether a child is born in the urban sprawl of detroit or the windswept plains of nebraska  they look up at the at the same night sky  they fill their heart with the same dreams and they are infused with the breath of life by the same almighty creator so to all americans  in every city near and far  small and large  from mountain to mountain  from ocean to ocean  hear these words  you will never be ignored again  your voice  your hopes  and your dreams will define our american destiny  and your courage and goodness and love  will forever guide us along the way  together  we will make america strong again  we will make america wealthy again  we will make america proud again we will make america safe again  and yes  together  we will make we will make america great again  thank you  god bless you  and god bless america  thank you  god bless america \n"
                    ]
                }
            ],
            "source": [
                "print(lines)"
            ]
        },
        {
            "cell_type": "code",
            "execution_count": 5,
            "metadata": {},
            "outputs": [
                {
                    "name": "stdout",
                    "output_type": "stream",
                    "text": [
                        "<class 'str'>\n"
                    ]
                }
            ],
            "source": [
                "print(type(lines))"
            ]
        },
        {
            "cell_type": "code",
            "execution_count": 6,
            "metadata": {},
            "outputs": [
                {
                    "name": "stdout",
                    "output_type": "stream",
                    "text": [
                        "{'c': 188, 'h': 280, 'i': 488, 'e': 816, 'f': 157, ' ': 1667, 'j': 11, 'u': 195, 's': 359, 't': 561, 'r': 512, 'o': 570, 'b': 115, 'p': 111, 'd': 258, 'n': 472, 'a': 552, 'l': 342, 'm': 168, 'w': 193, 'k': 38, 'y': 134, 'z': 8, 'g': 135, 'v': 63, '2': 2, '0': 2, '1': 1, '7': 1, 'x': 5, '’': 3}\n"
                    ]
                }
            ],
            "source": [
                "#how many times each letter appears in a text\n",
                "dict = {}\n",
                "for letter in lines:\n",
                "    if letter in dict:\n",
                "        dict[letter] +=1\n",
                "    else:\n",
                "        dict[letter] = 1\n",
                "print(dict)\n",
                "\n",
                "\n"
            ]
        },
        {
            "cell_type": "code",
            "execution_count": 7,
            "metadata": {},
            "outputs": [
                {
                    "name": "stdout",
                    "output_type": "stream",
                    "text": [
                        "c : 188\n",
                        "h : 280\n",
                        "i : 488\n",
                        "e : 816\n",
                        "f : 157\n",
                        "  : 1667\n",
                        "j : 11\n",
                        "u : 195\n",
                        "s : 359\n",
                        "t : 561\n",
                        "r : 512\n",
                        "o : 570\n",
                        "b : 115\n",
                        "p : 111\n",
                        "d : 258\n",
                        "n : 472\n",
                        "a : 552\n",
                        "l : 342\n",
                        "m : 168\n",
                        "w : 193\n",
                        "k : 38\n",
                        "y : 134\n",
                        "z : 8\n",
                        "g : 135\n",
                        "v : 63\n",
                        "2 : 2\n",
                        "0 : 2\n",
                        "1 : 1\n",
                        "7 : 1\n",
                        "x : 5\n",
                        "’ : 3\n"
                    ]
                }
            ],
            "source": [
                "for key in list(dict.keys()):\n",
                "    print(key, \":\", dict[key])"
            ]
        },
        {
            "cell_type": "code",
            "execution_count": 8,
            "metadata": {},
            "outputs": [
                {
                    "name": "stdout",
                    "output_type": "stream",
                    "text": [
                        "Number of characters in text file : 8407\n"
                    ]
                }
            ],
            "source": [
                "number_of_characters = len(lines)\n",
                "print('Number of characters in text file :', number_of_characters)"
            ]
        },
        {
            "cell_type": "code",
            "execution_count": 9,
            "metadata": {},
            "outputs": [],
            "source": [
                "#converting str type to list\n",
                "words = lines.split()"
            ]
        },
        {
            "cell_type": "code",
            "execution_count": 10,
            "metadata": {},
            "outputs": [
                {
                    "name": "stdout",
                    "output_type": "stream",
                    "text": [
                        "<class 'list'>\n"
                    ]
                }
            ],
            "source": [
                "print(type(words))"
            ]
        },
        {
            "cell_type": "code",
            "execution_count": 11,
            "metadata": {},
            "outputs": [
                {
                    "name": "stdout",
                    "output_type": "stream",
                    "text": [
                        "['chief', 'justice', 'roberts', 'president', 'carter', 'president', 'clinton', 'president', 'bush', 'president', 'obama', 'fellow', 'americans', 'and', 'people', 'of', 'the', 'world', 'thank', 'you', 'we', 'the', 'citizens', 'of', 'america', 'are', 'now', 'joined', 'in', 'a', 'great', 'national', 'effort', 'to', 'rebuild', 'our', 'country', 'and', 'restore', 'its', 'promise', 'for', 'all', 'of', 'our', 'people', 'together', 'we', 'will', 'determine', 'the', 'course', 'of', 'america', 'and', 'the', 'world', 'for', 'many', 'many', 'years', 'to', 'come', 'we', 'will', 'face', 'challenges', 'we', 'will', 'confront', 'hardships', 'but', 'we', 'will', 'get', 'the', 'job', 'done', 'every', 'four', 'years', 'we', 'gather', 'on', 'these', 'steps', 'to', 'carry', 'out', 'the', 'orderly', 'and', 'peaceful', 'transfer', 'of', 'power', 'and', 'we', 'are', 'grateful', 'to', 'president', 'obama', 'and', 'first', 'lady', 'michelle', 'obama', 'for', 'their', 'gracious', 'aid', 'throughout', 'this', 'transition', 'they', 'have', 'been', 'magnificent', 'thank', 'you', 'today', 'ceremony', 'however', 'has', 'very', 'special', 'meaning', 'because', 'today', 'we', 'are', 'not', 'merely', 'transferring', 'power', 'from', 'one', 'administration', 'to', 'another', 'or', 'from', 'one', 'party', 'to', 'another', 'but', 'we', 'are', 'transferring', 'power', 'from', 'washington', 'd', 'c', 'and', 'giving', 'it', 'back', 'to', 'you', 'the', 'people', 'for', 'too', 'long', 'a', 'small', 'group', 'in', 'our', 'nation', 'capital', 'has', 'reaped', 'the', 'rewards', 'of', 'government', 'while', 'the', 'people', 'have', 'borne', 'the', 'cost', 'washington', 'flourished', 'but', 'the', 'people', 'did', 'not', 'share', 'in', 'its', 'wealth', 'politicians', 'prospered', 'but', 'the', 'jobs', 'left', 'and', 'the', 'factories', 'closed', 'the', 'establishment', 'protected', 'itself', 'but', 'not', 'the', 'citizens', 'of', 'our', 'country', 'their', 'victories', 'have', 'not', 'been', 'your', 'victories', 'their', 'triumphs', 'have', 'not', 'been', 'your', 'triumphs', 'and', 'while', 'they', 'celebrated', 'in', 'our', 'nation', 'capital', 'there', 'was', 'little', 'to', 'celebrate', 'for', 'struggling', 'families', 'all', 'across', 'our', 'land', 'that', 'all', 'changes', 'starting', 'right', 'here', 'and', 'right', 'now', 'because', 'this', 'moment', 'is', 'your', 'moment', 'it', 'belongs', 'to', 'you', 'it', 'belongs', 'to', 'everyone', 'gathered', 'here', 'today', 'and', 'everyone', 'watching', 'all', 'across', 'america', 'this', 'is', 'your', 'day', 'this', 'is', 'your', 'celebration', 'and', 'this', 'the', 'united', 'states', 'of', 'america', 'is', 'your', 'country', 'what', 'truly', 'matters', 'is', 'not', 'which', 'party', 'controls', 'our', 'government', 'but', 'whether', 'our', 'government', 'is', 'controlled', 'by', 'the', 'people', 'january', '20th', '2017', 'will', 'be', 'remembered', 'as', 'the', 'day', 'the', 'people', 'became', 'the', 'rulers', 'of', 'this', 'nation', 'again', 'the', 'forgotten', 'men', 'and', 'women', 'of', 'our', 'country', 'will', 'be', 'forgotten', 'no', 'longer', 'everyone', 'is', 'listening', 'to', 'you', 'now', 'you', 'came', 'by', 'the', 'tens', 'of', 'millions', 'to', 'become', 'part', 'of', 'a', 'historic', 'movement', 'the', 'likes', 'of', 'which', 'the', 'world', 'has', 'never', 'seen', 'before', 'at', 'the', 'center', 'of', 'this', 'movement', 'is', 'a', 'crucial', 'conviction', 'that', 'a', 'nation', 'exists', 'to', 'serve', 'its', 'citizens', 'americans', 'want', 'great', 'schools', 'for', 'their', 'children', 'safe', 'neighborhoods', 'for', 'their', 'families', 'and', 'good', 'jobs', 'for', 'themselves', 'these', 'are', 'just', 'and', 'reasonable', 'demands', 'of', 'righteous', 'people', 'and', 'a', 'righteous', 'public', 'but', 'for', 'too', 'many', 'of', 'our', 'citizens', 'a', 'different', 'reality', 'exists', 'mothers', 'and', 'children', 'trapped', 'in', 'poverty', 'in', 'our', 'inner', 'cities', 'rusted', 'out', 'factories', 'scattered', 'like', 'tombstones', 'across', 'the', 'across', 'the', 'landscape', 'of', 'our', 'nation', 'an', 'education', 'system', 'flush', 'with', 'cash', 'but', 'which', 'leaves', 'our', 'young', 'and', 'beautiful', 'students', 'deprived', 'of', 'all', 'knowledge', 'and', 'the', 'crime', 'and', 'the', 'gangs', 'and', 'the', 'drugs', 'that', 'have', 'stolen', 'too', 'many', 'lives', 'and', 'robbed', 'our', 'country', 'of', 'so', 'much', 'unrealized', 'potential', 'this', 'american', 'carnage', 'stops', 'right', 'here', 'and', 'stops', 'right', 'now', 'we', 'are', 'one', 'nation', 'and', 'their', 'pain', 'is', 'our', 'pain', 'their', 'dreams', 'are', 'our', 'dreams', 'and', 'their', 'success', 'will', 'be', 'our', 'success', 'we', 'share', 'one', 'heart', 'one', 'home', 'and', 'one', 'glorious', 'destiny', 'the', 'oath', 'of', 'office', 'i', 'take', 'today', 'is', 'an', 'oath', 'of', 'allegiance', 'to', 'all', 'americans', 'for', 'many', 'decades', 'we’ve', 'enriched', 'foreign', 'industry', 'at', 'the', 'expense', 'of', 'american', 'industry', 'subsidized', 'the', 'armies', 'of', 'other', 'countries', 'while', 'allowing', 'for', 'the', 'very', 'sad', 'depletion', 'of', 'our', 'military', 'we’ve', 'defended', 'other', 'nation', 'borders', 'while', 'refusing', 'to', 'defend', 'our', 'own', 'and', 'spent', 'trillions', 'and', 'trillions', 'of', 'dollars', 'overseas', 'while', 'america', 'infrastructure', 'has', 'fallen', 'into', 'disrepair', 'and', 'decay', 'we’ve', 'made', 'other', 'countries', 'rich', 'while', 'the', 'wealth', 'strength', 'and', 'confidence', 'of', 'our', 'country', 'has', 'dissipated', 'over', 'the', 'horizon', 'one', 'by', 'one', 'the', 'factories', 'shuddered', 'and', 'left', 'our', 'shores', 'with', 'not', 'even', 'a', 'thought', 'about', 'the', 'millions', 'and', 'millions', 'of', 'american', 'workers', 'that', 'were', 'left', 'behind', 'the', 'wealth', 'of', 'our', 'middle', 'class', 'has', 'been', 'ripped', 'from', 'their', 'homes', 'and', 'then', 'redistributed', 'all', 'across', 'the', 'world', 'but', 'that', 'is', 'the', 'past', 'and', 'now', 'we', 'are', 'looking', 'only', 'to', 'the', 'future', 'we', 'assembled', 'here', 'today', 'our', 'issuing', 'a', 'new', 'decree', 'to', 'be', 'heard', 'in', 'every', 'city', 'in', 'every', 'foreign', 'capital', 'and', 'in', 'every', 'hall', 'of', 'power', 'from', 'this', 'day', 'forward', 'a', 'new', 'vision', 'will', 'govern', 'our', 'land', 'from', 'this', 'day', 'forward', 'it', 'going', 'to', 'be', 'only', 'america', 'first', 'america', 'first', 'every', 'decision', 'on', 'trade', 'on', 'taxes', 'on', 'immigration', 'on', 'foreign', 'affairs', 'will', 'be', 'made', 'to', 'benefit', 'american', 'workers', 'and', 'american', 'families', 'we', 'must', 'protect', 'our', 'borders', 'from', 'the', 'ravages', 'of', 'other', 'countries', 'making', 'our', 'products', 'stealing', 'our', 'companies', 'and', 'destroying', 'our', 'jobs', 'protection', 'will', 'lead', 'to', 'great', 'prosperity', 'and', 'strength', 'i', 'will', 'fight', 'for', 'you', 'with', 'every', 'breath', 'in', 'my', 'body', 'and', 'i', 'will', 'never', 'ever', 'let', 'you', 'down', 'america', 'will', 'start', 'winning', 'again', 'winning', 'like', 'never', 'before', 'we', 'will', 'bring', 'back', 'our', 'jobs', 'we', 'will', 'bring', 'back', 'our', 'borders', 'we', 'will', 'bring', 'back', 'our', 'wealth', 'and', 'we', 'will', 'bring', 'back', 'our', 'dreams', 'we', 'will', 'build', 'new', 'roads', 'and', 'highways', 'and', 'bridges', 'and', 'airports', 'and', 'tunnels', 'and', 'railways', 'all', 'across', 'our', 'wonderful', 'nation', 'we', 'will', 'get', 'our', 'people', 'off', 'of', 'welfare', 'and', 'back', 'to', 'work', 'rebuilding', 'our', 'country', 'with', 'american', 'hands', 'and', 'american', 'labor', 'we', 'will', 'follow', 'two', 'simple', 'rules', 'buy', 'american', 'and', 'hire', 'american', 'we', 'will', 'seek', 'friendship', 'and', 'goodwill', 'with', 'the', 'nations', 'of', 'the', 'world', 'but', 'we', 'do', 'so', 'with', 'the', 'understanding', 'that', 'it', 'is', 'the', 'right', 'of', 'all', 'nations', 'to', 'put', 'their', 'own', 'interests', 'first', 'we', 'do', 'not', 'seek', 'to', 'impose', 'our', 'way', 'of', 'life', 'on', 'anyone', 'but', 'rather', 'to', 'let', 'it', 'shine', 'as', 'an', 'example', 'we', 'will', 'shine', 'for', 'everyone', 'to', 'follow', 'we', 'will', 'reinforce', 'old', 'alliances', 'and', 'form', 'new', 'ones', 'and', 'you', 'unite', 'the', 'civilized', 'world', 'against', 'radical', 'islamic', 'terrorism', 'which', 'we', 'will', 'eradicate', 'completely', 'from', 'the', 'face', 'of', 'the', 'earth', 'at', 'the', 'bedrock', 'of', 'our', 'politics', 'will', 'be', 'a', 'total', 'allegiance', 'to', 'the', 'united', 'states', 'of', 'america', 'and', 'through', 'our', 'loyalty', 'to', 'our', 'country', 'we', 'will', 'rediscover', 'our', 'loyalty', 'to', 'each', 'other', 'when', 'you', 'open', 'your', 'heart', 'to', 'patriotism', 'there', 'is', 'no', 'room', 'for', 'prejudice', 'the', 'bible', 'tells', 'us', 'how', 'good', 'and', 'pleasant', 'it', 'is', 'when', 'god', 'people', 'live', 'together', 'in', 'unity', 'we', 'must', 'speak', 'our', 'minds', 'openly', 'debate', 'our', 'disagreements', 'but', 'always', 'pursue', 'solidarity', 'when', 'america', 'is', 'united', 'america', 'is', 'totally', 'unstoppable', 'there', 'should', 'be', 'no', 'fear', 'we', 'are', 'protected', 'and', 'we', 'will', 'always', 'be', 'protected', 'we', 'will', 'be', 'protected', 'by', 'the', 'great', 'men', 'and', 'women', 'of', 'our', 'military', 'and', 'law', 'enforcement', 'and', 'most', 'importantly', 'we', 'will', 'be', 'protected', 'by', 'god', 'finally', 'we', 'must', 'think', 'big', 'and', 'dream', 'even', 'bigger', 'in', 'america', 'we', 'understand', 'that', 'a', 'nation', 'is', 'only', 'living', 'as', 'long', 'as', 'it', 'is', 'striving', 'we', 'will', 'no', 'longer', 'accept', 'politicians', 'who', 'are', 'all', 'talk', 'and', 'no', 'action', 'constantly', 'complaining', 'but', 'never', 'doing', 'anything', 'about', 'it', 'the', 'time', 'for', 'empty', 'talk', 'is', 'over', 'now', 'arrives', 'the', 'hour', 'of', 'action', 'do', 'not', 'allow', 'anyone', 'to', 'tell', 'you', 'that', 'it', 'cannot', 'be', 'done', 'no', 'challenge', 'can', 'match', 'the', 'heart', 'and', 'fight', 'and', 'spirit', 'of', 'america', 'we', 'will', 'not', 'fail', 'our', 'country', 'will', 'thrive', 'and', 'prosper', 'again', 'we', 'stand', 'at', 'the', 'birth', 'of', 'a', 'new', 'millennium', 'ready', 'to', 'unlock', 'the', 'mysteries', 'of', 'space', 'to', 'free', 'the', 'earth', 'from', 'the', 'miseries', 'of', 'disease', 'and', 'to', 'harness', 'the', 'industries', 'and', 'technologies', 'of', 'tomorrow', 'a', 'new', 'national', 'pride', 'will', 'stir', 'our', 'souls', 'lift', 'our', 'sights', 'and', 'heal', 'our', 'divisions', 'it', 'time', 'to', 'remember', 'that', 'old', 'wisdom', 'our', 'soldiers', 'will', 'never', 'forget', 'that', 'whether', 'we', 'are', 'black', 'or', 'brown', 'or', 'white', 'we', 'all', 'bleed', 'the', 'same', 'red', 'blood', 'of', 'patriots', 'we', 'all', 'enjoy', 'the', 'same', 'glorious', 'freedoms', 'and', 'we', 'all', 'salute', 'the', 'same', 'great', 'american', 'flag', 'and', 'whether', 'a', 'child', 'is', 'born', 'in', 'the', 'urban', 'sprawl', 'of', 'detroit', 'or', 'the', 'windswept', 'plains', 'of', 'nebraska', 'they', 'look', 'up', 'at', 'the', 'at', 'the', 'same', 'night', 'sky', 'they', 'fill', 'their', 'heart', 'with', 'the', 'same', 'dreams', 'and', 'they', 'are', 'infused', 'with', 'the', 'breath', 'of', 'life', 'by', 'the', 'same', 'almighty', 'creator', 'so', 'to', 'all', 'americans', 'in', 'every', 'city', 'near', 'and', 'far', 'small', 'and', 'large', 'from', 'mountain', 'to', 'mountain', 'from', 'ocean', 'to', 'ocean', 'hear', 'these', 'words', 'you', 'will', 'never', 'be', 'ignored', 'again', 'your', 'voice', 'your', 'hopes', 'and', 'your', 'dreams', 'will', 'define', 'our', 'american', 'destiny', 'and', 'your', 'courage', 'and', 'goodness', 'and', 'love', 'will', 'forever', 'guide', 'us', 'along', 'the', 'way', 'together', 'we', 'will', 'make', 'america', 'strong', 'again', 'we', 'will', 'make', 'america', 'wealthy', 'again', 'we', 'will', 'make', 'america', 'proud', 'again', 'we', 'will', 'make', 'america', 'safe', 'again', 'and', 'yes', 'together', 'we', 'will', 'make', 'we', 'will', 'make', 'america', 'great', 'again', 'thank', 'you', 'god', 'bless', 'you', 'and', 'god', 'bless', 'america', 'thank', 'you', 'god', 'bless', 'america']\n"
                    ]
                }
            ],
            "source": [
                "print(words)"
            ]
        },
        {
            "cell_type": "code",
            "execution_count": 12,
            "metadata": {},
            "outputs": [
                {
                    "data": {
                        "text/plain": [
                            "20"
                        ]
                    },
                    "execution_count": 12,
                    "metadata": {},
                    "output_type": "execute_result"
                }
            ],
            "source": [
                "#how many times each word appears in a text\n",
                "dict_word = {}\n",
                "for word in words:\n",
                "    if word in dict_word:\n",
                "        dict_word[word] += 1\n",
                "    else:\n",
                "        dict_word[word] = 1\n",
                "dict_word[\"america\"]\n"
            ]
        },
        {
            "cell_type": "code",
            "execution_count": 13,
            "metadata": {},
            "outputs": [
                {
                    "name": "stdout",
                    "output_type": "stream",
                    "text": [
                        "1464\n",
                        "Number of words in text file : 1464\n"
                    ]
                }
            ],
            "source": [
                "#counting words\n",
                "print(len(words))\n",
                "\n",
                "print('Number of words in text file :', len(words))"
            ]
        },
        {
            "cell_type": "code",
            "execution_count": 14,
            "metadata": {},
            "outputs": [
                {
                    "name": "stdout",
                    "output_type": "stream",
                    "text": [
                        "1464\n"
                    ]
                }
            ],
            "source": [
                "#counting words\n",
                "word_count = 0\n",
                "\n",
                "for word in words:\n",
                "    word_count += 1\n",
                "print(word_count)"
            ]
        },
        {
            "cell_type": "code",
            "execution_count": 15,
            "metadata": {},
            "outputs": [
                {
                    "name": "stdout",
                    "output_type": "stream",
                    "text": [
                        "6740\n"
                    ]
                }
            ],
            "source": [
                "#counting all letters\n",
                "letter_count = 0 \n",
                "for word in words:\n",
                "    letter = len(word)\n",
                "    letter_count += letter\n",
                "\n",
                "print(letter_count)\n",
                "\n"
            ]
        },
        {
            "cell_type": "code",
            "execution_count": 16,
            "metadata": {},
            "outputs": [
                {
                    "name": "stdout",
                    "output_type": "stream",
                    "text": [
                        "0\n"
                    ]
                }
            ],
            "source": [
                "#counting specific words\n",
                "word_count = 0 \n",
                "for word in words:\n",
                "    if word == \"ak\":\n",
                "        word_count += 1\n",
                "\n",
                "print(word_count)\n"
            ]
        },
        {
            "cell_type": "code",
            "execution_count": 17,
            "metadata": {},
            "outputs": [
                {
                    "name": "stdout",
                    "output_type": "stream",
                    "text": [
                        "0\n"
                    ]
                }
            ],
            "source": [
                "#counting all substrings of words from words list\n",
                "letter_count = 0 \n",
                "for word in words:   \n",
                "    letter_count += word.count(\"kemal\")\n",
                "\n",
                "print(letter_count)"
            ]
        },
        {
            "cell_type": "code",
            "execution_count": 18,
            "metadata": {},
            "outputs": [],
            "source": [
                "del dict_word['the']\n",
                "del dict_word['of']\n",
                "del dict_word['to']\n",
                "del dict_word['or']\n",
                "del dict_word['and']\n",
                "del dict_word['a']\n",
                "del dict_word['an']\n",
                "del dict_word['is']\n",
                "del dict_word['are']\n",
                "del dict_word['by']\n",
                "del dict_word['for']\n",
                "del dict_word['in']\n"
            ]
        },
        {
            "cell_type": "code",
            "execution_count": 19,
            "metadata": {},
            "outputs": [
                {
                    "data": {
                        "text/plain": [
                            "9"
                        ]
                    },
                    "execution_count": 19,
                    "metadata": {},
                    "output_type": "execute_result"
                }
            ],
            "source": [
                "dict_word['country']"
            ]
        },
        {
            "cell_type": "code",
            "execution_count": 20,
            "metadata": {},
            "outputs": [
                {
                    "name": "stdout",
                    "output_type": "stream",
                    "text": [
                        "{'chief': 1, 'justice': 1, 'roberts': 1, 'president': 5, 'carter': 1, 'clinton': 1, 'bush': 1, 'obama': 3, 'fellow': 1, 'americans': 4, 'people': 10, 'world': 6, 'thank': 4, 'you': 15, 'we': 48, 'citizens': 4, 'america': 20, 'now': 6, 'joined': 1, 'great': 6, 'national': 2, 'effort': 1, 'rebuild': 1, 'our': 49, 'country': 9, 'restore': 1, 'its': 3, 'promise': 1, 'all': 14, 'together': 4, 'will': 43, 'determine': 1, 'course': 1, 'many': 5, 'years': 2, 'come': 1, 'face': 2, 'challenges': 1, 'confront': 1, 'hardships': 1, 'but': 13, 'get': 2, 'job': 1, 'done': 2, 'every': 7, 'four': 1, 'gather': 1, 'on': 6, 'these': 3, 'steps': 1, 'carry': 1, 'out': 2, 'orderly': 1, 'peaceful': 1, 'transfer': 1, 'power': 4, 'grateful': 1, 'first': 4, 'lady': 1, 'michelle': 1, 'their': 11, 'gracious': 1, 'aid': 1, 'throughout': 1, 'this': 10, 'transition': 1, 'they': 5, 'have': 5, 'been': 4, 'magnificent': 1, 'today': 5, 'ceremony': 1, 'however': 1, 'has': 6, 'very': 2, 'special': 1, 'meaning': 1, 'because': 2, 'not': 10, 'merely': 1, 'transferring': 2, 'from': 11, 'one': 8, 'administration': 1, 'another': 2, 'party': 2, 'washington': 2, 'd': 1, 'c': 1, 'giving': 1, 'it': 11, 'back': 6, 'too': 3, 'long': 2, 'small': 2, 'group': 1, 'nation': 9, 'capital': 3, 'reaped': 1, 'rewards': 1, 'government': 3, 'while': 6, 'borne': 1, 'cost': 1, 'flourished': 1, 'did': 1, 'share': 2, 'wealth': 4, 'politicians': 2, 'prospered': 1, 'jobs': 4, 'left': 3, 'factories': 3, 'closed': 1, 'establishment': 1, 'protected': 5, 'itself': 1, 'victories': 2, 'your': 11, 'triumphs': 2, 'celebrated': 1, 'there': 3, 'was': 1, 'little': 1, 'celebrate': 1, 'struggling': 1, 'families': 3, 'across': 6, 'land': 2, 'that': 10, 'changes': 1, 'starting': 1, 'right': 5, 'here': 4, 'moment': 2, 'belongs': 2, 'everyone': 4, 'gathered': 1, 'watching': 1, 'day': 4, 'celebration': 1, 'united': 3, 'states': 2, 'what': 1, 'truly': 1, 'matters': 1, 'which': 4, 'controls': 1, 'whether': 3, 'controlled': 1, 'january': 1, '20th': 1, '2017': 1, 'be': 13, 'remembered': 1, 'as': 4, 'became': 1, 'rulers': 1, 'again': 9, 'forgotten': 2, 'men': 2, 'women': 2, 'no': 6, 'longer': 2, 'listening': 1, 'came': 1, 'tens': 1, 'millions': 3, 'become': 1, 'part': 1, 'historic': 1, 'movement': 2, 'likes': 1, 'never': 6, 'seen': 1, 'before': 2, 'at': 6, 'center': 1, 'crucial': 1, 'conviction': 1, 'exists': 2, 'serve': 1, 'want': 1, 'schools': 1, 'children': 2, 'safe': 2, 'neighborhoods': 1, 'good': 2, 'themselves': 1, 'just': 1, 'reasonable': 1, 'demands': 1, 'righteous': 2, 'public': 1, 'different': 1, 'reality': 1, 'mothers': 1, 'trapped': 1, 'poverty': 1, 'inner': 1, 'cities': 1, 'rusted': 1, 'scattered': 1, 'like': 2, 'tombstones': 1, 'landscape': 1, 'education': 1, 'system': 1, 'flush': 1, 'with': 8, 'cash': 1, 'leaves': 1, 'young': 1, 'beautiful': 1, 'students': 1, 'deprived': 1, 'knowledge': 1, 'crime': 1, 'gangs': 1, 'drugs': 1, 'stolen': 1, 'lives': 1, 'robbed': 1, 'so': 3, 'much': 1, 'unrealized': 1, 'potential': 1, 'american': 11, 'carnage': 1, 'stops': 2, 'pain': 2, 'dreams': 5, 'success': 2, 'heart': 4, 'home': 1, 'glorious': 2, 'destiny': 2, 'oath': 2, 'office': 1, 'i': 3, 'take': 1, 'allegiance': 2, 'decades': 1, 'we’ve': 3, 'enriched': 1, 'foreign': 3, 'industry': 2, 'expense': 1, 'subsidized': 1, 'armies': 1, 'other': 5, 'countries': 3, 'allowing': 1, 'sad': 1, 'depletion': 1, 'military': 2, 'defended': 1, 'borders': 3, 'refusing': 1, 'defend': 1, 'own': 2, 'spent': 1, 'trillions': 2, 'dollars': 1, 'overseas': 1, 'infrastructure': 1, 'fallen': 1, 'into': 1, 'disrepair': 1, 'decay': 1, 'made': 2, 'rich': 1, 'strength': 2, 'confidence': 1, 'dissipated': 1, 'over': 2, 'horizon': 1, 'shuddered': 1, 'shores': 1, 'even': 2, 'thought': 1, 'about': 2, 'workers': 2, 'were': 1, 'behind': 1, 'middle': 1, 'class': 1, 'ripped': 1, 'homes': 1, 'then': 1, 'redistributed': 1, 'past': 1, 'looking': 1, 'only': 3, 'future': 1, 'assembled': 1, 'issuing': 1, 'new': 6, 'decree': 1, 'heard': 1, 'city': 2, 'hall': 1, 'forward': 2, 'vision': 1, 'govern': 1, 'going': 1, 'decision': 1, 'trade': 1, 'taxes': 1, 'immigration': 1, 'affairs': 1, 'benefit': 1, 'must': 3, 'protect': 1, 'ravages': 1, 'making': 1, 'products': 1, 'stealing': 1, 'companies': 1, 'destroying': 1, 'protection': 1, 'lead': 1, 'prosperity': 1, 'fight': 2, 'breath': 2, 'my': 1, 'body': 1, 'ever': 1, 'let': 2, 'down': 1, 'start': 1, 'winning': 2, 'bring': 4, 'build': 1, 'roads': 1, 'highways': 1, 'bridges': 1, 'airports': 1, 'tunnels': 1, 'railways': 1, 'wonderful': 1, 'off': 1, 'welfare': 1, 'work': 1, 'rebuilding': 1, 'hands': 1, 'labor': 1, 'follow': 2, 'two': 1, 'simple': 1, 'rules': 1, 'buy': 1, 'hire': 1, 'seek': 2, 'friendship': 1, 'goodwill': 1, 'nations': 2, 'do': 3, 'understanding': 1, 'put': 1, 'interests': 1, 'impose': 1, 'way': 2, 'life': 2, 'anyone': 2, 'rather': 1, 'shine': 2, 'example': 1, 'reinforce': 1, 'old': 2, 'alliances': 1, 'form': 1, 'ones': 1, 'unite': 1, 'civilized': 1, 'against': 1, 'radical': 1, 'islamic': 1, 'terrorism': 1, 'eradicate': 1, 'completely': 1, 'earth': 2, 'bedrock': 1, 'politics': 1, 'total': 1, 'through': 1, 'loyalty': 2, 'rediscover': 1, 'each': 1, 'when': 3, 'open': 1, 'patriotism': 1, 'room': 1, 'prejudice': 1, 'bible': 1, 'tells': 1, 'us': 2, 'how': 1, 'pleasant': 1, 'god': 5, 'live': 1, 'unity': 1, 'speak': 1, 'minds': 1, 'openly': 1, 'debate': 1, 'disagreements': 1, 'always': 2, 'pursue': 1, 'solidarity': 1, 'totally': 1, 'unstoppable': 1, 'should': 1, 'fear': 1, 'law': 1, 'enforcement': 1, 'most': 1, 'importantly': 1, 'finally': 1, 'think': 1, 'big': 1, 'dream': 1, 'bigger': 1, 'understand': 1, 'living': 1, 'striving': 1, 'accept': 1, 'who': 1, 'talk': 2, 'action': 2, 'constantly': 1, 'complaining': 1, 'doing': 1, 'anything': 1, 'time': 2, 'empty': 1, 'arrives': 1, 'hour': 1, 'allow': 1, 'tell': 1, 'cannot': 1, 'challenge': 1, 'can': 1, 'match': 1, 'spirit': 1, 'fail': 1, 'thrive': 1, 'prosper': 1, 'stand': 1, 'birth': 1, 'millennium': 1, 'ready': 1, 'unlock': 1, 'mysteries': 1, 'space': 1, 'free': 1, 'miseries': 1, 'disease': 1, 'harness': 1, 'industries': 1, 'technologies': 1, 'tomorrow': 1, 'pride': 1, 'stir': 1, 'souls': 1, 'lift': 1, 'sights': 1, 'heal': 1, 'divisions': 1, 'remember': 1, 'wisdom': 1, 'soldiers': 1, 'forget': 1, 'black': 1, 'brown': 1, 'white': 1, 'bleed': 1, 'same': 6, 'red': 1, 'blood': 1, 'patriots': 1, 'enjoy': 1, 'freedoms': 1, 'salute': 1, 'flag': 1, 'child': 1, 'born': 1, 'urban': 1, 'sprawl': 1, 'detroit': 1, 'windswept': 1, 'plains': 1, 'nebraska': 1, 'look': 1, 'up': 1, 'night': 1, 'sky': 1, 'fill': 1, 'infused': 1, 'almighty': 1, 'creator': 1, 'near': 1, 'far': 1, 'large': 1, 'mountain': 2, 'ocean': 2, 'hear': 1, 'words': 1, 'ignored': 1, 'voice': 1, 'hopes': 1, 'define': 1, 'courage': 1, 'goodness': 1, 'love': 1, 'forever': 1, 'guide': 1, 'along': 1, 'make': 6, 'strong': 1, 'wealthy': 1, 'proud': 1, 'yes': 1, 'bless': 3}\n"
                    ]
                }
            ],
            "source": [
                "print(dict_word)"
            ]
        },
        {
            "cell_type": "code",
            "execution_count": 21,
            "metadata": {},
            "outputs": [
                {
                    "name": "stdout",
                    "output_type": "stream",
                    "text": [
                        "chief : 1\n",
                        "justice : 1\n",
                        "roberts : 1\n",
                        "president : 5\n",
                        "carter : 1\n",
                        "clinton : 1\n",
                        "bush : 1\n",
                        "obama : 3\n",
                        "fellow : 1\n",
                        "americans : 4\n",
                        "people : 10\n",
                        "world : 6\n",
                        "thank : 4\n",
                        "you : 15\n",
                        "we : 48\n",
                        "citizens : 4\n",
                        "america : 20\n",
                        "now : 6\n",
                        "joined : 1\n",
                        "great : 6\n",
                        "national : 2\n",
                        "effort : 1\n",
                        "rebuild : 1\n",
                        "our : 49\n",
                        "country : 9\n",
                        "restore : 1\n",
                        "its : 3\n",
                        "promise : 1\n",
                        "all : 14\n",
                        "together : 4\n",
                        "will : 43\n",
                        "determine : 1\n",
                        "course : 1\n",
                        "many : 5\n",
                        "years : 2\n",
                        "come : 1\n",
                        "face : 2\n",
                        "challenges : 1\n",
                        "confront : 1\n",
                        "hardships : 1\n",
                        "but : 13\n",
                        "get : 2\n",
                        "job : 1\n",
                        "done : 2\n",
                        "every : 7\n",
                        "four : 1\n",
                        "gather : 1\n",
                        "on : 6\n",
                        "these : 3\n",
                        "steps : 1\n",
                        "carry : 1\n",
                        "out : 2\n",
                        "orderly : 1\n",
                        "peaceful : 1\n",
                        "transfer : 1\n",
                        "power : 4\n",
                        "grateful : 1\n",
                        "first : 4\n",
                        "lady : 1\n",
                        "michelle : 1\n",
                        "their : 11\n",
                        "gracious : 1\n",
                        "aid : 1\n",
                        "throughout : 1\n",
                        "this : 10\n",
                        "transition : 1\n",
                        "they : 5\n",
                        "have : 5\n",
                        "been : 4\n",
                        "magnificent : 1\n",
                        "today : 5\n",
                        "ceremony : 1\n",
                        "however : 1\n",
                        "has : 6\n",
                        "very : 2\n",
                        "special : 1\n",
                        "meaning : 1\n",
                        "because : 2\n",
                        "not : 10\n",
                        "merely : 1\n",
                        "transferring : 2\n",
                        "from : 11\n",
                        "one : 8\n",
                        "administration : 1\n",
                        "another : 2\n",
                        "party : 2\n",
                        "washington : 2\n",
                        "d : 1\n",
                        "c : 1\n",
                        "giving : 1\n",
                        "it : 11\n",
                        "back : 6\n",
                        "too : 3\n",
                        "long : 2\n",
                        "small : 2\n",
                        "group : 1\n",
                        "nation : 9\n",
                        "capital : 3\n",
                        "reaped : 1\n",
                        "rewards : 1\n",
                        "government : 3\n",
                        "while : 6\n",
                        "borne : 1\n",
                        "cost : 1\n",
                        "flourished : 1\n",
                        "did : 1\n",
                        "share : 2\n",
                        "wealth : 4\n",
                        "politicians : 2\n",
                        "prospered : 1\n",
                        "jobs : 4\n",
                        "left : 3\n",
                        "factories : 3\n",
                        "closed : 1\n",
                        "establishment : 1\n",
                        "protected : 5\n",
                        "itself : 1\n",
                        "victories : 2\n",
                        "your : 11\n",
                        "triumphs : 2\n",
                        "celebrated : 1\n",
                        "there : 3\n",
                        "was : 1\n",
                        "little : 1\n",
                        "celebrate : 1\n",
                        "struggling : 1\n",
                        "families : 3\n",
                        "across : 6\n",
                        "land : 2\n",
                        "that : 10\n",
                        "changes : 1\n",
                        "starting : 1\n",
                        "right : 5\n",
                        "here : 4\n",
                        "moment : 2\n",
                        "belongs : 2\n",
                        "everyone : 4\n",
                        "gathered : 1\n",
                        "watching : 1\n",
                        "day : 4\n",
                        "celebration : 1\n",
                        "united : 3\n",
                        "states : 2\n",
                        "what : 1\n",
                        "truly : 1\n",
                        "matters : 1\n",
                        "which : 4\n",
                        "controls : 1\n",
                        "whether : 3\n",
                        "controlled : 1\n",
                        "january : 1\n",
                        "20th : 1\n",
                        "2017 : 1\n",
                        "be : 13\n",
                        "remembered : 1\n",
                        "as : 4\n",
                        "became : 1\n",
                        "rulers : 1\n",
                        "again : 9\n",
                        "forgotten : 2\n",
                        "men : 2\n",
                        "women : 2\n",
                        "no : 6\n",
                        "longer : 2\n",
                        "listening : 1\n",
                        "came : 1\n",
                        "tens : 1\n",
                        "millions : 3\n",
                        "become : 1\n",
                        "part : 1\n",
                        "historic : 1\n",
                        "movement : 2\n",
                        "likes : 1\n",
                        "never : 6\n",
                        "seen : 1\n",
                        "before : 2\n",
                        "at : 6\n",
                        "center : 1\n",
                        "crucial : 1\n",
                        "conviction : 1\n",
                        "exists : 2\n",
                        "serve : 1\n",
                        "want : 1\n",
                        "schools : 1\n",
                        "children : 2\n",
                        "safe : 2\n",
                        "neighborhoods : 1\n",
                        "good : 2\n",
                        "themselves : 1\n",
                        "just : 1\n",
                        "reasonable : 1\n",
                        "demands : 1\n",
                        "righteous : 2\n",
                        "public : 1\n",
                        "different : 1\n",
                        "reality : 1\n",
                        "mothers : 1\n",
                        "trapped : 1\n",
                        "poverty : 1\n",
                        "inner : 1\n",
                        "cities : 1\n",
                        "rusted : 1\n",
                        "scattered : 1\n",
                        "like : 2\n",
                        "tombstones : 1\n",
                        "landscape : 1\n",
                        "education : 1\n",
                        "system : 1\n",
                        "flush : 1\n",
                        "with : 8\n",
                        "cash : 1\n",
                        "leaves : 1\n",
                        "young : 1\n",
                        "beautiful : 1\n",
                        "students : 1\n",
                        "deprived : 1\n",
                        "knowledge : 1\n",
                        "crime : 1\n",
                        "gangs : 1\n",
                        "drugs : 1\n",
                        "stolen : 1\n",
                        "lives : 1\n",
                        "robbed : 1\n",
                        "so : 3\n",
                        "much : 1\n",
                        "unrealized : 1\n",
                        "potential : 1\n",
                        "american : 11\n",
                        "carnage : 1\n",
                        "stops : 2\n",
                        "pain : 2\n",
                        "dreams : 5\n",
                        "success : 2\n",
                        "heart : 4\n",
                        "home : 1\n",
                        "glorious : 2\n",
                        "destiny : 2\n",
                        "oath : 2\n",
                        "office : 1\n",
                        "i : 3\n",
                        "take : 1\n",
                        "allegiance : 2\n",
                        "decades : 1\n",
                        "we’ve : 3\n",
                        "enriched : 1\n",
                        "foreign : 3\n",
                        "industry : 2\n",
                        "expense : 1\n",
                        "subsidized : 1\n",
                        "armies : 1\n",
                        "other : 5\n",
                        "countries : 3\n",
                        "allowing : 1\n",
                        "sad : 1\n",
                        "depletion : 1\n",
                        "military : 2\n",
                        "defended : 1\n",
                        "borders : 3\n",
                        "refusing : 1\n",
                        "defend : 1\n",
                        "own : 2\n",
                        "spent : 1\n",
                        "trillions : 2\n",
                        "dollars : 1\n",
                        "overseas : 1\n",
                        "infrastructure : 1\n",
                        "fallen : 1\n",
                        "into : 1\n",
                        "disrepair : 1\n",
                        "decay : 1\n",
                        "made : 2\n",
                        "rich : 1\n",
                        "strength : 2\n",
                        "confidence : 1\n",
                        "dissipated : 1\n",
                        "over : 2\n",
                        "horizon : 1\n",
                        "shuddered : 1\n",
                        "shores : 1\n",
                        "even : 2\n",
                        "thought : 1\n",
                        "about : 2\n",
                        "workers : 2\n",
                        "were : 1\n",
                        "behind : 1\n",
                        "middle : 1\n",
                        "class : 1\n",
                        "ripped : 1\n",
                        "homes : 1\n",
                        "then : 1\n",
                        "redistributed : 1\n",
                        "past : 1\n",
                        "looking : 1\n",
                        "only : 3\n",
                        "future : 1\n",
                        "assembled : 1\n",
                        "issuing : 1\n",
                        "new : 6\n",
                        "decree : 1\n",
                        "heard : 1\n",
                        "city : 2\n",
                        "hall : 1\n",
                        "forward : 2\n",
                        "vision : 1\n",
                        "govern : 1\n",
                        "going : 1\n",
                        "decision : 1\n",
                        "trade : 1\n",
                        "taxes : 1\n",
                        "immigration : 1\n",
                        "affairs : 1\n",
                        "benefit : 1\n",
                        "must : 3\n",
                        "protect : 1\n",
                        "ravages : 1\n",
                        "making : 1\n",
                        "products : 1\n",
                        "stealing : 1\n",
                        "companies : 1\n",
                        "destroying : 1\n",
                        "protection : 1\n",
                        "lead : 1\n",
                        "prosperity : 1\n",
                        "fight : 2\n",
                        "breath : 2\n",
                        "my : 1\n",
                        "body : 1\n",
                        "ever : 1\n",
                        "let : 2\n",
                        "down : 1\n",
                        "start : 1\n",
                        "winning : 2\n",
                        "bring : 4\n",
                        "build : 1\n",
                        "roads : 1\n",
                        "highways : 1\n",
                        "bridges : 1\n",
                        "airports : 1\n",
                        "tunnels : 1\n",
                        "railways : 1\n",
                        "wonderful : 1\n",
                        "off : 1\n",
                        "welfare : 1\n",
                        "work : 1\n",
                        "rebuilding : 1\n",
                        "hands : 1\n",
                        "labor : 1\n",
                        "follow : 2\n",
                        "two : 1\n",
                        "simple : 1\n",
                        "rules : 1\n",
                        "buy : 1\n",
                        "hire : 1\n",
                        "seek : 2\n",
                        "friendship : 1\n",
                        "goodwill : 1\n",
                        "nations : 2\n",
                        "do : 3\n",
                        "understanding : 1\n",
                        "put : 1\n",
                        "interests : 1\n",
                        "impose : 1\n",
                        "way : 2\n",
                        "life : 2\n",
                        "anyone : 2\n",
                        "rather : 1\n",
                        "shine : 2\n",
                        "example : 1\n",
                        "reinforce : 1\n",
                        "old : 2\n",
                        "alliances : 1\n",
                        "form : 1\n",
                        "ones : 1\n",
                        "unite : 1\n",
                        "civilized : 1\n",
                        "against : 1\n",
                        "radical : 1\n",
                        "islamic : 1\n",
                        "terrorism : 1\n",
                        "eradicate : 1\n",
                        "completely : 1\n",
                        "earth : 2\n",
                        "bedrock : 1\n",
                        "politics : 1\n",
                        "total : 1\n",
                        "through : 1\n",
                        "loyalty : 2\n",
                        "rediscover : 1\n",
                        "each : 1\n",
                        "when : 3\n",
                        "open : 1\n",
                        "patriotism : 1\n",
                        "room : 1\n",
                        "prejudice : 1\n",
                        "bible : 1\n",
                        "tells : 1\n",
                        "us : 2\n",
                        "how : 1\n",
                        "pleasant : 1\n",
                        "god : 5\n",
                        "live : 1\n",
                        "unity : 1\n",
                        "speak : 1\n",
                        "minds : 1\n",
                        "openly : 1\n",
                        "debate : 1\n",
                        "disagreements : 1\n",
                        "always : 2\n",
                        "pursue : 1\n",
                        "solidarity : 1\n",
                        "totally : 1\n",
                        "unstoppable : 1\n",
                        "should : 1\n",
                        "fear : 1\n",
                        "law : 1\n",
                        "enforcement : 1\n",
                        "most : 1\n",
                        "importantly : 1\n",
                        "finally : 1\n",
                        "think : 1\n",
                        "big : 1\n",
                        "dream : 1\n",
                        "bigger : 1\n",
                        "understand : 1\n",
                        "living : 1\n",
                        "striving : 1\n",
                        "accept : 1\n",
                        "who : 1\n",
                        "talk : 2\n",
                        "action : 2\n",
                        "constantly : 1\n",
                        "complaining : 1\n",
                        "doing : 1\n",
                        "anything : 1\n",
                        "time : 2\n",
                        "empty : 1\n",
                        "arrives : 1\n",
                        "hour : 1\n",
                        "allow : 1\n",
                        "tell : 1\n",
                        "cannot : 1\n",
                        "challenge : 1\n",
                        "can : 1\n",
                        "match : 1\n",
                        "spirit : 1\n",
                        "fail : 1\n",
                        "thrive : 1\n",
                        "prosper : 1\n",
                        "stand : 1\n",
                        "birth : 1\n",
                        "millennium : 1\n",
                        "ready : 1\n",
                        "unlock : 1\n",
                        "mysteries : 1\n",
                        "space : 1\n",
                        "free : 1\n",
                        "miseries : 1\n",
                        "disease : 1\n",
                        "harness : 1\n",
                        "industries : 1\n",
                        "technologies : 1\n",
                        "tomorrow : 1\n",
                        "pride : 1\n",
                        "stir : 1\n",
                        "souls : 1\n",
                        "lift : 1\n",
                        "sights : 1\n",
                        "heal : 1\n",
                        "divisions : 1\n",
                        "remember : 1\n",
                        "wisdom : 1\n",
                        "soldiers : 1\n",
                        "forget : 1\n",
                        "black : 1\n",
                        "brown : 1\n",
                        "white : 1\n",
                        "bleed : 1\n",
                        "same : 6\n",
                        "red : 1\n",
                        "blood : 1\n",
                        "patriots : 1\n",
                        "enjoy : 1\n",
                        "freedoms : 1\n",
                        "salute : 1\n",
                        "flag : 1\n",
                        "child : 1\n",
                        "born : 1\n",
                        "urban : 1\n",
                        "sprawl : 1\n",
                        "detroit : 1\n",
                        "windswept : 1\n",
                        "plains : 1\n",
                        "nebraska : 1\n",
                        "look : 1\n",
                        "up : 1\n",
                        "night : 1\n",
                        "sky : 1\n",
                        "fill : 1\n",
                        "infused : 1\n",
                        "almighty : 1\n",
                        "creator : 1\n",
                        "near : 1\n",
                        "far : 1\n",
                        "large : 1\n",
                        "mountain : 2\n",
                        "ocean : 2\n",
                        "hear : 1\n",
                        "words : 1\n",
                        "ignored : 1\n",
                        "voice : 1\n",
                        "hopes : 1\n",
                        "define : 1\n",
                        "courage : 1\n",
                        "goodness : 1\n",
                        "love : 1\n",
                        "forever : 1\n",
                        "guide : 1\n",
                        "along : 1\n",
                        "make : 6\n",
                        "strong : 1\n",
                        "wealthy : 1\n",
                        "proud : 1\n",
                        "yes : 1\n",
                        "bless : 3\n"
                    ]
                }
            ],
            "source": [
                "for key in list(dict_word.keys()):\n",
                "    print(key, \":\", dict_word[key])"
            ]
        }
    ],
    "metadata": {
        "kernelspec": {
            "display_name": "Python 3.10.4 64-bit",
            "language": "python",
            "name": "python3"
        },
        "language_info": {
            "codemirror_mode": {
                "name": "ipython",
                "version": 3
            },
            "file_extension": ".py",
            "mimetype": "text/x-python",
            "name": "python",
            "nbconvert_exporter": "python",
            "pygments_lexer": "ipython3",
            "version": "3.10.6"
        },
        "orig_nbformat": 4,
        "vscode": {
            "interpreter": {
                "hash": "916dbcbb3f70747c44a77c7bcd40155683ae19c65e1c03b4aa3499c5328201f1"
            }
        }
    },
    "nbformat": 4,
    "nbformat_minor": 2
}
