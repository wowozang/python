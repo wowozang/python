{
    "cells": [
        {
            "cell_type": "code",
            "execution_count": 1,
            "metadata": {},
            "outputs": [],
            "source": [
                "import string\n",
                "text = open(\"sampletext.txt\", \"r\")"
            ]
        },
        {
            "cell_type": "code",
            "execution_count": 2,
            "metadata": {},
            "outputs": [],
            "source": [
                "# text.read()"
            ]
        },
        {
            "cell_type": "code",
            "execution_count": 3,
            "metadata": {},
            "outputs": [],
            "source": [
                "# text.seek(0)\n",
                "# text.readlines()"
            ]
        },
        {
            "cell_type": "code",
            "execution_count": 4,
            "metadata": {},
            "outputs": [],
            "source": [
                "d = dict()"
            ]
        },
        {
            "cell_type": "code",
            "execution_count": 5,
            "metadata": {},
            "outputs": [
                {
                    "name": "stdout",
                    "output_type": "stream",
                    "text": [
                        "mango banana apple pear\n",
                        "['mango', 'banana', 'apple', 'pear']\n",
                        "banana grapes strawberry\n",
                        "['banana', 'grapes', 'strawberry']\n",
                        "apple pear mango banana\n",
                        "['apple', 'pear', 'mango', 'banana']\n",
                        "kiwi apple mango strawberry\n",
                        "['kiwi', 'apple', 'mango', 'strawberry']\n",
                        "mango : 3\n",
                        "banana : 3\n",
                        "apple : 3\n",
                        "pear : 2\n",
                        "grapes : 1\n",
                        "strawberry : 2\n",
                        "kiwi : 1\n",
                        "<class 'dict'>\n"
                    ]
                }
            ],
            "source": [
                "for line in text:\n",
                "    # Remove the leading spaces and newline character\n",
                "    line = line.strip()\n",
                "  \n",
                "    # Convert the characters in line to \n",
                "    # lowercase to avoid case mismatch\n",
                "    line = line.lower()\n",
                "  \n",
                "    # Remove the punctuation marks from the line\n",
                "    line = line.translate(line.maketrans(\"\", \"\", string.punctuation))\n",
                "\n",
                "    print(line)\n",
                "  \n",
                "    # Split the line into words\n",
                "    words = line.split(\" \") \n",
                "    print(words)\n",
                "    \n",
                "  \n",
                "    # Iterate over each word in line\n",
                "    for word in words:\n",
                "        # Check if the word is already in dictionary\n",
                "        if word in d:\n",
                "            # Increment count of word by 1\n",
                "            d[word] = d[word] + 1\n",
                "  \n",
                "        else:\n",
                "            # Add the word to dictionary with count 1\n",
                "            d[word] = 1  \n",
                "\n",
                "# Print the contents of dictionary\n",
                "for key in list(d.keys()):\n",
                "    print(key, \":\", d[key])\n",
                "\n",
                "print(type(d))\n"
            ]
        }
    ],
    "metadata": {
        "kernelspec": {
            "display_name": "Python 3.10.4 64-bit",
            "language": "python",
            "name": "python3"
        },
        "language_info": {
            "codemirror_mode": {
                "name": "ipython",
                "version": 3
            },
            "file_extension": ".py",
            "mimetype": "text/x-python",
            "name": "python",
            "nbconvert_exporter": "python",
            "pygments_lexer": "ipython3",
            "version": "3.10.6"
        },
        "orig_nbformat": 4,
        "vscode": {
            "interpreter": {
                "hash": "916dbcbb3f70747c44a77c7bcd40155683ae19c65e1c03b4aa3499c5328201f1"
            }
        }
    },
    "nbformat": 4,
    "nbformat_minor": 2
}
